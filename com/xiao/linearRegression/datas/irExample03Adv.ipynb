{
 "cells": [
  {
   "cell_type": "code",
   "execution_count": 2,
   "metadata": {
    "collapsed": true
   },
   "outputs": [],
   "source": [
    "# 引入所需要的全部包\n",
    "import sklearn\n",
    "from sklearn.model_selection import train_test_split\n",
    "from sklearn.linear_model import LinearRegression\n",
    "from sklearn.preprocessing import StandardScaler\n",
    "from sklearn.preprocessing import PolynomialFeatures\n",
    "from sklearn.pipeline import Pipeline\n",
    "\n",
    "import numpy as np\n",
    "import matplotlib as mpl\n",
    "import matplotlib.pyplot as plt\n",
    "import pandas as pd\n",
    "import time"
   ]
  },
  {
   "cell_type": "code",
   "execution_count": 6,
   "metadata": {},
   "outputs": [],
   "source": [
    "## 创建一个时间字符串格式化字符串\n",
    "def date_format(dt):\n",
    "    import time\n",
    "    t = time.strptime(' '.join(dt), '%d/%m/%Y %H:%M:%S')\n",
    "    return (t.tm_year, t.tm_mon, t.tm_mday, t.tm_hour, t.tm_min, t.tm_sec)"
   ]
  },
  {
   "cell_type": "code",
   "execution_count": 7,
   "metadata": {},
   "outputs": [],
   "source": [
    "## 设置字符集，防止中文乱码\n",
    "mpl.rcParams['font.sans-serif']=[u'simHei']\n",
    "mpl.rcParams['axes.unicode_minus']=False"
   ]
  },
  {
   "cell_type": "code",
   "execution_count": 8,
   "metadata": {},
   "outputs": [],
   "source": [
    "# 加载数据\n",
    "path = 'D:\\mlExample\\com\\\\xiao\\linearRegression\\datas\\household_power_consumption_200.txt' ## 200行数据\n",
    "path = 'D:\\mlExample\\com\\\\xiao\\linearRegression\\datas\\household_power_consumption_1000.txt' ## 1000行数据\n",
    "df = pd.read_csv(path, sep=';', low_memory=False)\n",
    "\n",
    "# 日期、时间、有功功率、无功功率、电压、电流、厨房用电功率、洗衣服用电功率、热水器用电功率\n",
    "names2=df.columns\n",
    "names=['Date', 'Time', 'Global_active_power', 'Global_reactive_power', 'Voltage', 'Global_intensity', 'Sub_metering_1', 'Sub_metering_2', 'Sub_metering_3']\n",
    "\n",
    "# 异常数据处理(异常数据过滤)\n",
    "new_df = df.replace('?', np.nan)\n",
    "datas = new_df.dropna(axis=0,how = 'any') # 只要有数据为空，就进行删除操作"
   ]
  },
  {
   "cell_type": "code",
   "execution_count": 9,
   "metadata": {},
   "outputs": [
    {
     "name": "stdout",
     "output_type": "stream",
     "text": [
      "准确率: 0.4850657817514202\n"
     ]
    }
   ],
   "source": [
    "## 时间和电压之间的关系(Linear)\n",
    "# 获取x和y变量, 并将时间转换为数值型连续变量\n",
    "X = datas[names[0:2]]\n",
    "X = X.apply(lambda x: pd.Series(date_format(x)), axis=1)\n",
    "Y = datas[names[4]].values\n",
    "\n",
    "# 对数据集进行测试集合训练集划分 \n",
    "X_train,X_test,Y_train,Y_test = train_test_split(X, Y, test_size=0.2, random_state=0)\n",
    "\n",
    "# # 数据标准化\n",
    "# ss = StandardScaler()\n",
    "# X_train = ss.fit_transform(X_train) # 训练并转换\n",
    "# X_test = ss.transform(X_test) ## 直接使用在模型构建数据上进行一个数据标准化操作 \n",
    "\n",
    "# 模型训练\n",
    "lr = LinearRegression()\n",
    "lr.fit(X_train, Y_train) ## 训练模型\n",
    "\n",
    "# 模型校验\n",
    "y_predict = lr.predict(X_test) ## 预测结果\n",
    "\n",
    "# 模型效果\n",
    "print(\"准确率:\",lr.score(X_test, Y_test))\n",
    "\n",
    "## 预测值和实际值画图比较\n",
    "t=np.arange(len(X_test))\n",
    "plt.figure(facecolor='w')\n",
    "plt.plot(t, Y_test, 'r-', linewidth=2, label=u'真实值')\n",
    "plt.plot(t, y_predict, 'g-', linewidth=2, label=u'预测值')\n",
    "plt.legend(loc = 'lower right')\n",
    "plt.title(u\"线性回归预测时间和功率之间的关系\", fontsize=20)\n",
    "plt.grid(b=True)#网格\n",
    "plt.show()"
   ]
  },
  {
   "cell_type": "code",
   "execution_count": 11,
   "metadata": {},
   "outputs": [
    {
     "name": "stdout",
     "output_type": "stream",
     "text": [
      "1阶，系数为： [2.39926650e+02 0.00000000e+00 0.00000000e+00 3.97781449e+00\n 8.73334650e-01 1.70647992e-01 0.00000000e+00]\n2阶，系数为： [ 1.23998300e+02  3.55271368e-14 -7.81597009e-14  5.34497071e+01\n  2.95068077e+00  2.69407641e-01 -5.32907052e-15 -3.55271368e-15\n  8.88178420e-16  0.00000000e+00  0.00000000e+00  0.00000000e+00\n  0.00000000e+00  0.00000000e+00  0.00000000e+00  0.00000000e+00\n  0.00000000e+00  0.00000000e+00  1.02461452e+02 -2.50100464e+01\n -5.18469319e-01  0.00000000e+00 -1.02427364e+01 -4.65982219e-01\n  0.00000000e+00 -3.55472266e-02  0.00000000e+00  0.00000000e+00]\n3阶，系数为： [ 1.06303324e+12 -7.52773669e+11  2.12816760e+12 -9.53433863e+12\n  1.50224363e+11  1.24753680e+11 -2.10445177e+11 -2.86373371e+11\n -2.73949767e+11  1.63670539e+11  5.97002023e+10 -2.79408605e+11\n -3.55726203e+11 -2.59005902e+11  6.79712021e+10 -1.44760428e+10\n  5.20112328e+10 -9.76562500e-04  2.60610968e+12 -6.05309076e+10\n -5.02678348e+10  0.00000000e+00  1.10827637e+00  3.45336914e-01\n  0.00000000e+00  5.85937500e-03  0.00000000e+00  0.00000000e+00\n  0.00000000e+00  0.00000000e+00  0.00000000e+00  0.00000000e+00\n  0.00000000e+00  0.00000000e+00  0.00000000e+00  0.00000000e+00\n  0.00000000e+00  0.00000000e+00  0.00000000e+00  0.00000000e+00\n  0.00000000e+00  0.00000000e+00  0.00000000e+00  0.00000000e+00\n  0.00000000e+00  0.00000000e+00  0.00000000e+00  0.00000000e+00\n  0.00000000e+00  0.00000000e+00  0.00000000e+00  0.00000000e+00\n  0.00000000e+00  0.00000000e+00  0.00000000e+00  0.00000000e+00\n  0.00000000e+00  0.00000000e+00  0.00000000e+00  0.00000000e+00\n  0.00000000e+00  0.00000000e+00  0.00000000e+00  0.00000000e+00\n  9.10600353e+12 -1.50224363e+11 -1.24753680e+11  0.00000000e+00\n -6.41564941e+00 -6.71470642e-01  0.00000000e+00 -1.84478760e-01\n  0.00000000e+00  0.00000000e+00  4.48028564e+00  2.57629395e-01\n  0.00000000e+00 -2.65136719e-01  0.00000000e+00  0.00000000e+00\n -2.44018555e-01  0.00000000e+00  0.00000000e+00  0.00000000e+00]\n"
     ]
    },
    {
     "name": "stdout",
     "output_type": "stream",
     "text": [
      "4阶，系数为： [ 1.98236950e+13 -6.36266368e+12 -8.19197778e+11 -2.41835460e+13\n  2.40054791e+12  1.10773332e+12  2.52245897e+12  2.26093380e+12\n -4.64598235e+11 -3.10328767e+11  6.98913673e+11  9.69576533e+11\n  3.36682879e+11  5.31213939e+11 -1.93230766e+11 -7.71628230e+11\n  3.76054179e+11  1.38354357e+11  5.03666951e+12 -1.14372116e+13\n -6.42706951e+11 -1.04958920e+11  9.69966926e+12  2.54696605e+11\n -1.21838302e+11  5.77387250e+12  4.40390380e+10 -1.45775272e+10\n -1.40971612e+10 -5.91093717e+08  2.89672374e+07  5.29743161e+06\n -7.99508243e+05  0.00000000e+00  0.00000000e+00  0.00000000e+00\n  0.00000000e+00  0.00000000e+00  0.00000000e+00  0.00000000e+00\n  0.00000000e+00  0.00000000e+00  0.00000000e+00  0.00000000e+00\n  0.00000000e+00  0.00000000e+00  0.00000000e+00  0.00000000e+00\n  0.00000000e+00  0.00000000e+00  0.00000000e+00  0.00000000e+00\n  0.00000000e+00  0.00000000e+00  0.00000000e+00  0.00000000e+00\n  0.00000000e+00  0.00000000e+00  0.00000000e+00  0.00000000e+00\n  0.00000000e+00  0.00000000e+00  0.00000000e+00  0.00000000e+00\n  8.80822476e+12  1.81817615e+12 -1.02861244e+12  0.00000000e+00\n -3.90835262e+12 -1.02626607e+11  0.00000000e+00 -2.32650507e+12\n  0.00000000e+00  0.00000000e+00 -1.53422852e+01 -2.18774414e+00\n  0.00000000e+00 -5.88867188e-01  0.00000000e+00  0.00000000e+00\n -2.44140625e-01  0.00000000e+00  0.00000000e+00  0.00000000e+00\n  0.00000000e+00  0.00000000e+00  0.00000000e+00  0.00000000e+00\n  0.00000000e+00  0.00000000e+00  0.00000000e+00  0.00000000e+00\n  0.00000000e+00  0.00000000e+00  0.00000000e+00  0.00000000e+00\n  0.00000000e+00  0.00000000e+00  0.00000000e+00  0.00000000e+00\n  0.00000000e+00  0.00000000e+00  0.00000000e+00  0.00000000e+00\n  0.00000000e+00  0.00000000e+00  0.00000000e+00  0.00000000e+00\n  0.00000000e+00  0.00000000e+00  0.00000000e+00  0.00000000e+00\n  0.00000000e+00  0.00000000e+00  0.00000000e+00  0.00000000e+00\n  0.00000000e+00  0.00000000e+00  0.00000000e+00  0.00000000e+00\n  0.00000000e+00  0.00000000e+00  0.00000000e+00  0.00000000e+00\n  0.00000000e+00  0.00000000e+00  0.00000000e+00  0.00000000e+00\n  0.00000000e+00  0.00000000e+00  0.00000000e+00  0.00000000e+00\n  0.00000000e+00  0.00000000e+00  0.00000000e+00  0.00000000e+00\n  0.00000000e+00  0.00000000e+00  0.00000000e+00  0.00000000e+00\n  0.00000000e+00  0.00000000e+00  0.00000000e+00  0.00000000e+00\n  0.00000000e+00  0.00000000e+00  0.00000000e+00  0.00000000e+00\n  0.00000000e+00  0.00000000e+00  0.00000000e+00  0.00000000e+00\n  0.00000000e+00  0.00000000e+00  0.00000000e+00  0.00000000e+00\n  0.00000000e+00  0.00000000e+00  0.00000000e+00  0.00000000e+00\n  0.00000000e+00  0.00000000e+00  0.00000000e+00  0.00000000e+00\n  0.00000000e+00  0.00000000e+00  0.00000000e+00  0.00000000e+00\n  0.00000000e+00  0.00000000e+00  0.00000000e+00  0.00000000e+00\n  0.00000000e+00  0.00000000e+00  0.00000000e+00 -1.83344615e+13\n  1.04699427e+13  1.96360556e+11  0.00000000e+00 -9.69966926e+12\n -2.54696605e+11  0.00000000e+00 -5.77387250e+12  0.00000000e+00\n  0.00000000e+00  1.53059082e+01 -6.72119141e+00  0.00000000e+00\n -2.19726562e-01  0.00000000e+00  0.00000000e+00  3.61328125e-02\n  0.00000000e+00  0.00000000e+00  0.00000000e+00 -3.05761719e+00\n -3.54296875e+00  0.00000000e+00 -4.14062500e-01  0.00000000e+00\n  0.00000000e+00  2.08007812e-01  0.00000000e+00  0.00000000e+00\n  0.00000000e+00 -2.53906250e-02  0.00000000e+00  0.00000000e+00\n  0.00000000e+00  0.00000000e+00]\n"
     ]
    }
   ],
   "source": [
    "## 时间和电压之间的关系(Linear-多项式)\n",
    "# Pipeline：管道的意思，讲多个操作合并成为一个操作\n",
    "# Pipleline总可以给定多个不同的操作，给定每个不同操作的名称即可，执行的时候，按照从前到后的顺序执行\n",
    "# Pipleline对象在执行的过程中，当调用某个方法的时候，会调用对应过程的对应对象的对应方法\n",
    "# eg：在下面这个案例中，调用了fit方法，\n",
    "# 那么对数据调用第一步操作：PolynomialFeatures的fit_transform方法对数据进行转换并构建模型\n",
    "# 然后对转换之后的数据调用第二步操作: LinearRegression的fit方法构建模型\n",
    "# eg: 在下面这个案例中，调用了predict方法，\n",
    "# 那么对数据调用第一步操作：PolynomialFeatures的transform方法对数据进行转换\n",
    "# 然后对转换之后的数据调用第二步操作: LinearRegression的predict方法进行预测\n",
    "models = [\n",
    "    Pipeline([\n",
    "            ('Poly', PolynomialFeatures()), # 给定进行多项式扩展操作， 第一个操作：多项式扩展\n",
    "            ('Linear', LinearRegression(fit_intercept=False)) # 第二个操作，线性回归\n",
    "        ])\n",
    "]\n",
    "model = models[0]\n",
    "# 获取x和y变量, 并将时间转换为数值型连续变量\n",
    "X = datas[names[0:2]]\n",
    "X = X.apply(lambda x: pd.Series(date_format(x)), axis=1)\n",
    "Y = datas[names[4]]\n",
    "\n",
    "# 对数据集进行测试集合训练集划分\n",
    "X_train,X_test,Y_train,Y_test = train_test_split(X, Y, test_size=0.2, random_state=0)\n",
    "\n",
    "# 数据标准化\n",
    "ss = StandardScaler()\n",
    "X_train = ss.fit_transform(X_train) # 训练并转换\n",
    "X_test = ss.transform(X_test) ## 直接使用在模型构建数据上进行一个数据标准化操作 \n",
    "\n",
    "# 模型训练\n",
    "t=np.arange(len(X_test))\n",
    "N = 5\n",
    "d_pool = np.arange(1,N,1) # 阶\n",
    "m = d_pool.size\n",
    "clrs = [] # 颜色\n",
    "for c in np.linspace(16711680, 255, m):\n",
    "    clrs.append('#%06x' % int(c))\n",
    "line_width = 3\n",
    "\n",
    "plt.figure(figsize=(12,6), facecolor='w')#创建一个绘图窗口，设置大小，设置颜色\n",
    "for i,d in enumerate(d_pool):\n",
    "    plt.subplot(N-1,1,i+1)\n",
    "    plt.plot(t, Y_test, 'r-', label=u'真实值', ms=10, zorder=N)\n",
    "    ### 设置管道对象中的参数值，Poly是在管道对象中定义的操作名称， 后面跟参数名称；中间是两个下划线\n",
    "    model.set_params(Poly__degree=d) ## 设置多项式的阶乘\n",
    "    model.fit(X_train, Y_train) # 模型训练\n",
    "    # Linear是管道中定义的操作名称\n",
    "    # 获取线性回归算法模型对象\n",
    "    lin = model.get_params()['Linear']\n",
    "    output = u'%d阶，系数为：' % d\n",
    "    print (output, lin.coef_.ravel())\n",
    "    \n",
    "    # 模型结果预测\n",
    "    y_hat = model.predict(X_test)\n",
    "    # 计算评估值\n",
    "    s = model.score(X_test, Y_test)\n",
    "    \n",
    "    # 画图\n",
    "    z = N - 1 if (d == 2) else 0\n",
    "    label = u'%d阶, 准确率=%.3f' % (d,s)\n",
    "    plt.plot(t, y_hat, color=clrs[i], lw=line_width, alpha=0.75, label=label, zorder=z)\n",
    "    plt.legend(loc = 'upper left')\n",
    "    plt.grid(True)\n",
    "    plt.ylabel(u'%d阶结果' % d, fontsize=12)\n",
    "\n",
    "## 预测值和实际值画图比较\n",
    "plt.suptitle(u\"线性回归预测时间和功率之间的多项式关系\", fontsize=20)\n",
    "plt.grid(b=True)\n",
    "plt.show()"
   ]
  },
  {
   "cell_type": "code",
   "execution_count": null,
   "metadata": {},
   "outputs": [],
   "source": []
  }
 ],
 "metadata": {
  "kernelspec": {
   "display_name": "Python 2",
   "language": "python",
   "name": "python2"
  },
  "language_info": {
   "codemirror_mode": {
    "name": "ipython",
    "version": 2
   },
   "file_extension": ".py",
   "mimetype": "text/x-python",
   "name": "python",
   "nbconvert_exporter": "python",
   "pygments_lexer": "ipython2",
   "version": "2.7.6"
  }
 },
 "nbformat": 4,
 "nbformat_minor": 0
}
